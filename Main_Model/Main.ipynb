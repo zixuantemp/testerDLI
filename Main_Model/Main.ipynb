{
  "cells": [
    {
      "cell_type": "markdown",
      "id": "43b2458c",
      "metadata": {
        "id": "43b2458c"
      },
      "source": "#  Phishing-URL-Detection - Group Integration"
    },
    {
      "cell_type": "code",
      "execution_count": 1,
      "id": "4df4efa7",
      "metadata": {
        "id": "4df4efa7"
      },
      "outputs": [],
      "source": "# Core imports\nimport numpy as np\nimport pandas as pd\nimport matplotlib.pyplot as plt\n\n# Sklearn and friends\nfrom sklearn.model_selection import train_test_split\nfrom sklearn.preprocessing import RobustScaler\nfrom sklearn.metrics import accuracy_score, f1_score, recall_score, precision_score, precision_recall_curve\nfrom sklearn.neural_network import MLPClassifier\nfrom sklearn.ensemble import RandomForestClassifier, StackingClassifier\nfrom sklearn.linear_model import LogisticRegression\n\n# Optional SMOTE\ntry:\n    from imblearn.over_sampling import SMOTE\n    SMOTE_AVAILABLE = True\nexcept Exception:\n    SMOTE_AVAILABLE = False\n    try:\n        import sys, subprocess\n        subprocess.check_call([sys.executable, \"-m\", \"pip\", \"install\", \"imbalanced-learn\", \"-q\"])\n        from imblearn.over_sampling import SMOTE\n        SMOTE_AVAILABLE = True\n    except Exception:\n        SMOTE_AVAILABLE = False\n\nimport warnings, os, io, requests, pickle, time\nwarnings.filterwarnings(\"ignore\")"
    },
    {
      "cell_type": "code",
      "execution_count": 2,
      "id": "49473dd2",
      "metadata": {
        "colab": {
          "base_uri": "https://localhost:8080/"
        },
        "id": "49473dd2",
        "outputId": "614cf5d8-d4c1-42e4-a22a-1b7ce253fb58"
      },
      "outputs": [
        {
          "output_type": "stream",
          "name": "stdout",
          "text": "Dataset shape: (11054, 32)\\nTrain size: (8843, 31) | Test size: (2211, 31)\\n"
        }
      ],
      "source": "# Download dataset directly from GitHub (raw)\nRAW_URL = \"https://raw.githubusercontent.com/Jerrell-Su/DLI_GroupAJ/main/data/phishing.csv\"\n\ndef load_dataset_from_github(url: str) -> pd.DataFrame:\n    try:\n        df = pd.read_csv(url)\n        return df\n    except Exception:\n        import requests, io\n        resp = requests.get(url, timeout=60)\n        resp.raise_for_status()\n        return pd.read_csv(io.StringIO(resp.text))\n\ndataset = load_dataset_from_github(RAW_URL)\nprint(\"Dataset shape:\", dataset.shape)\nX = dataset.drop([\"class\"], axis=1)\ny = dataset[\"class\"]\n\nX_train, X_test, y_train, y_test = train_test_split(\n    X, y, test_size=0.2, random_state=42, stratify=y\n)\nprint(\"Train size:\", X_train.shape, \"| Test size:\", X_test.shape)"
    }
  ],
  "metadata": {
    "kernelspec": {
      "display_name": "Python 3",
      "language": "python",
      "name": "python3"
    },
    "language_info": {
      "codemirror_mode": {
        "name": "ipython",
        "version": 3
      },
      "file_extension": ".py",
      "mimetype": "text/x-python",
      "name": "python",
      "nbconvert_exporter": "python",
      "pygments_lexer": "ipython3",
      "version": "3.12.3"
    }
  },
  "nbformat": 4,
  "nbformat_minor": 5
}