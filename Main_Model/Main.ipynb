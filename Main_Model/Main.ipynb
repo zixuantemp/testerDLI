{
 "cells": [
  {
   "cell_type": "markdown",
   "id": "69415ff0",
   "metadata": {},
   "source": [
    "# Main Model"
   ]
  },
  {
   "cell_type": "code",
   "execution_count": null,
   "id": "96b47e94",
   "metadata": {},
   "outputs": [],
   "source": [
    "REGISTERED_MODELS={}\n",
    "WRAPPERS={}\n",
    "RESULTS_SCHEMA=['Model','Training_Time','Train_Accuracy','Test_Accuracy','Train_F1','Test_F1','Train_Recall','Test_Recall','Train_Precision','Test_Precision']\n",
    "\n",
    "def register_model(n,f): REGISTERED_MODELS[n]=f\n",
    "\n",
    "def register_wrapper(n,c): WRAPPERS[n]=c\n",
    "\n",
    "def log_result_stub(n):\n",
    "    return dict(zip(RESULTS_SCHEMA,[n,'0s',0,0,0,0,0,0,0,0]))"
   ]
  },
  {
   "cell_type": "markdown",
   "id": "aec2b7e1",
   "metadata": {},
   "source": [
    "## Baseline"
   ]
  },
  {
   "cell_type": "markdown",
   "id": "8f1e1c7d",
   "metadata": {},
   "source": [
    "## Improvement 1 — A"
   ]
  },
  {
   "cell_type": "markdown",
   "id": "12d182d7",
   "metadata": {},
   "source": [
    "## Improvement 2 — B"
   ]
  },
  {
   "cell_type": "markdown",
   "id": "8851c4a0",
   "metadata": {},
   "source": [
    "## Improvement 3 — C"
   ]
  },
  {
   "cell_type": "markdown",
   "id": "b9ce8a3d",
   "metadata": {},
   "source": [
    "## Improvement 4 — D"
   ]
  },
  {
   "cell_type": "markdown",
   "id": "97058501",
   "metadata": {},
   "source": [
    "## Improvement 5 — E"
   ]
  },
  {
   "cell_type": "markdown",
   "id": "d1dd150e",
   "metadata": {},
   "source": [
    "## Ultimate Model"
   ]
  },
  {
   "cell_type": "markdown",
   "id": "893be7a5",
   "metadata": {},
   "source": [
    "### E1"
   ]
  },
  {
   "cell_type": "code",
   "execution_count": null,
   "id": "855fb71c",
   "metadata": {},
   "outputs": [],
   "source": [
    "from sklearn.ensemble import StackingClassifier,RandomForestClassifier\n",
    "from sklearn.linear_model import LogisticRegression\n",
    "from sklearn.neural_network import MLPClassifier\n",
    "\n",
    "def _stack_bases():\n",
    "    return [\n",
    "        ('mlp1', MLPClassifier(hidden_layer_sizes=(128,64,32),early_stopping=True,random_state=42,verbose=False)),\n",
    "        ('mlp2', MLPClassifier(hidden_layer_sizes=(256,128,64),learning_rate='adaptive',early_stopping=True,random_state=43,verbose=False)),\n",
    "        ('mlp3', MLPClassifier(hidden_layer_sizes=(200,100,50),early_stopping=True,random_state=44,verbose=False)),\n",
    "        ('rf', RandomForestClassifier(n_estimators=200,random_state=42)),\n",
    "        ('lr', LogisticRegression(max_iter=1000,random_state=42)),\n",
    "    ]\n",
    "\n",
    "def _stack_meta():\n",
    "    return LogisticRegression(C=1.0, max_iter=1000, random_state=42)"
   ]
  },
  {
   "cell_type": "code",
   "execution_count": null,
   "id": "fb139ce0",
   "metadata": {},
   "outputs": [],
   "source": [
    "def make_stacking():\n",
    "    return StackingClassifier(estimators=_stack_bases(), final_estimator=_stack_meta(), cv=5, stack_method='predict_proba', verbose=0)"
   ]
  },
  {
   "cell_type": "code",
   "execution_count": null,
   "id": "e609f39e",
   "metadata": {},
   "outputs": [],
   "source": [
    "register_model('Stacking Ensemble', make_stacking)"
   ]
  }
 ],
 "metadata": {},
 "nbformat": 4,
 "nbformat_minor": 5
}
