{
  "cells": [
    {
      "cell_type": "markdown",
      "id": "43b2458c",
      "metadata": {
        "id": "43b2458c"
      },
      "source": "#  Phishing-URL-Detection - Group Integration"
    },
    {
      "cell_type": "code",
      "execution_count": 1,
      "id": "4df4efa7",
      "metadata": {
        "id": "4df4efa7"
      },
      "outputs": [],
      "source": "# Core imports\nimport numpy as np\nimport pandas as pd\nimport matplotlib.pyplot as plt\n\n# Sklearn and friends\nfrom sklearn.model_selection import train_test_split\nfrom sklearn.preprocessing import RobustScaler\nfrom sklearn.metrics import accuracy_score, f1_score, recall_score, precision_score, precision_recall_curve\nfrom sklearn.neural_network import MLPClassifier\nfrom sklearn.ensemble import RandomForestClassifier, StackingClassifier\nfrom sklearn.linear_model import LogisticRegression\n\n# Optional SMOTE\ntry:\n    from imblearn.over_sampling import SMOTE\n    SMOTE_AVAILABLE = True\nexcept Exception:\n    SMOTE_AVAILABLE = False\n    try:\n        import sys, subprocess\n        subprocess.check_call([sys.executable, \"-m\", \"pip\", \"install\", \"imbalanced-learn\", \"-q\"])\n        from imblearn.over_sampling import SMOTE\n        SMOTE_AVAILABLE = True\n    except Exception:\n        SMOTE_AVAILABLE = False\n\nimport warnings, os, io, requests, pickle, time\nwarnings.filterwarnings(\"ignore\")"
    }
  ],
  "metadata": {
    "kernelspec": {
      "display_name": "Python 3",
      "language": "python",
      "name": "python3"
    },
    "language_info": {
      "codemirror_mode": {
        "name": "ipython",
        "version": 3
      },
      "file_extension": ".py",
      "mimetype": "text/x-python",
      "name": "python",
      "nbconvert_exporter": "python",
      "pygments_lexer": "ipython3",
      "version": "3.12.3"
    }
  },
  "nbformat": 4,
  "nbformat_minor": 5
}