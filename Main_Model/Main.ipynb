{
 "cells": [
  {
   "cell_type": "markdown",
   "id": "69415ff0",
   "metadata": {},
   "source": [
    "# Main Model"
   ]
  },
  {
   "cell_type": "code",
   "execution_count": null,
   "id": "96b47e94",
   "metadata": {},
   "outputs": [],
   "source": [
    "REGISTERED_MODELS={}\n",
    "WRAPPERS={}\n",
    "RESULTS_SCHEMA=['Model','Training_Time','Train_Accuracy','Test_Accuracy','Train_F1','Test_F1','Train_Recall','Test_Recall','Train_Precision','Test_Precision']\n",
    "\n",
    "def register_model(n,f): REGISTERED_MODELS[n]=f\n",
    "\n",
    "def register_wrapper(n,c): WRAPPERS[n]=c\n",
    "\n",
    "def log_result_stub(n):\n",
    "    return dict(zip(RESULTS_SCHEMA,[n,'0s',0,0,0,0,0,0,0,0]))"
   ]
  },
  {
   "cell_type": "markdown",
   "id": "aec2b7e1",
   "metadata": {},
   "source": [
    "## Baseline"
   ]
  },
  {
   "cell_type": "markdown",
   "id": "8f1e1c7d",
   "metadata": {},
   "source": [
    "## Improvement 1 — A"
   ]
  },
  {
   "cell_type": "markdown",
   "id": "12d182d7",
   "metadata": {},
   "source": [
    "## Improvement 2 — B"
   ]
  },
  {
   "cell_type": "markdown",
   "id": "8851c4a0",
   "metadata": {},
   "source": [
    "## Improvement 3 — C"
   ]
  },
  {
   "cell_type": "markdown",
   "id": "b9ce8a3d",
   "metadata": {},
   "source": [
    "## Improvement 4 — D"
   ]
  },
  {
   "cell_type": "markdown",
   "id": "97058501",
   "metadata": {},
   "source": [
    "## Improvement 5 — E"
   ]
  },
  {
   "cell_type": "markdown",
   "id": "d1dd150e",
   "metadata": {},
   "source": [
    "## Ultimate Model"
   ]
  },
  {
   "cell_type": "markdown",
   "id": "8a2e8280",
   "metadata": {},
   "source": [
    "### B1"
   ]
  },
  {
   "cell_type": "code",
   "execution_count": null,
   "id": "3719e3c1",
   "metadata": {},
   "outputs": [],
   "source": [
    "from sklearn.ensemble import VotingClassifier,RandomForestClassifier\n",
    "from sklearn.linear_model import LogisticRegression\n",
    "from sklearn.neural_network import MLPClassifier\n",
    "\n",
    "def _mlp1(): return MLPClassifier(hidden_layer_sizes=(128,64),max_iter=1000,random_state=42,verbose=False)\n",
    "def _mlp2(): return MLPClassifier(hidden_layer_sizes=(200,100,50),learning_rate_init=0.01,alpha=0.01,max_iter=1000,random_state=43,verbose=False)\n",
    "def _mlp3(): return MLPClassifier(hidden_layer_sizes=(100,),max_iter=1000,random_state=44,verbose=False)\n",
    "def _rf():   return RandomForestClassifier(n_estimators=100,random_state=42)\n",
    "def _lr():   return LogisticRegression(max_iter=1000,random_state=42)"
   ]
  },
  {
   "cell_type": "code",
   "execution_count": null,
   "id": "c2e119b9",
   "metadata": {},
   "outputs": [],
   "source": [
    "def make_soft_voting():\n",
    "    return VotingClassifier(estimators=[('mlp1',_mlp1()),('mlp2',_mlp2()),('mlp3',_mlp3()),('rf',_rf()),('lr',_lr())],voting='soft')"
   ]
  }
 ],
 "metadata": {},
 "nbformat": 4,
 "nbformat_minor": 5
}
