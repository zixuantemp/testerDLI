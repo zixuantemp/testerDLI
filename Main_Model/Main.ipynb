{
 "cells": [
  {
   "cell_type": "markdown",
   "id": "69415ff0",
   "metadata": {},
   "source": [
    "# Main Model"
   ]
  },
  {
   "cell_type": "code",
   "execution_count": null,
   "id": "96b47e94",
   "metadata": {},
   "outputs": [],
   "source": [
    "REGISTERED_MODELS={}\n",
    "WRAPPERS={}\n",
    "RESULTS_SCHEMA=['Model','Training_Time','Train_Accuracy','Test_Accuracy','Train_F1','Test_F1','Train_Recall','Test_Recall','Train_Precision','Test_Precision']\n",
    "\n",
    "def register_model(n,f): REGISTERED_MODELS[n]=f\n",
    "\n",
    "def register_wrapper(n,c): WRAPPERS[n]=c\n",
    "\n",
    "def log_result_stub(n):\n",
    "    return dict(zip(RESULTS_SCHEMA,[n,'0s',0,0,0,0,0,0,0,0]))"
   ]
  },
  {
   "cell_type": "markdown",
   "id": "aec2b7e1",
   "metadata": {},
   "source": [
    "## Baseline"
   ]
  },
  {
   "cell_type": "markdown",
   "id": "8f1e1c7d",
   "metadata": {},
   "source": [
    "## Improvement 1 — A"
   ]
  },
  {
   "cell_type": "markdown",
   "id": "12d182d7",
   "metadata": {},
   "source": [
    "## Improvement 2 — B"
   ]
  },
  {
   "cell_type": "markdown",
   "id": "8851c4a0",
   "metadata": {},
   "source": [
    "## Improvement 3 — C"
   ]
  },
  {
   "cell_type": "markdown",
   "id": "b9ce8a3d",
   "metadata": {},
   "source": [
    "## Improvement 4 — D"
   ]
  },
  {
   "cell_type": "markdown",
   "id": "97058501",
   "metadata": {},
   "source": [
    "## Improvement 5 — E"
   ]
  },
  {
   "cell_type": "markdown",
   "id": "d1dd150e",
   "metadata": {},
   "source": [
    "## Ultimate Model"
   ]
  },
  {
   "cell_type": "markdown",
   "id": "4e784c60",
   "metadata": {},
   "source": [
    "### D1"
   ]
  },
  {
   "cell_type": "code",
   "execution_count": null,
   "id": "16a62f5a",
   "metadata": {},
   "outputs": [],
   "source": [
    "from dataclasses import dataclass\n",
    "from typing import Optional,List\n",
    "@dataclass\n",
    "class ThresholdConfig:\n",
    "    grid: Optional[List[float]] = None"
   ]
  },
  {
   "cell_type": "code",
   "execution_count": null,
   "id": "590561d0",
   "metadata": {},
   "outputs": [],
   "source": [
    "def compute_optimal_threshold_stub(*_, **__):\n",
    "    return None"
   ]
  },
  {
   "cell_type": "code",
   "execution_count": null,
   "id": "c531e7d5",
   "metadata": {},
   "outputs": [],
   "source": [
    "class ThresholdOptimizedModel:\n",
    "    def __init__(self, model=None, threshold: float=0.5, scaler=None):\n",
    "        self.model=model; self.threshold=threshold; self.scaler=scaler\n",
    "    def predict(self, X): raise NotImplementedError('stub')\n",
    "    def predict_proba(self, X): raise NotImplementedError('stub')\n",
    "\n",
    "register_wrapper('ThresholdOptimizedModel', ThresholdOptimizedModel)"
   ]
  }
 ],
 "metadata": {},
 "nbformat": 4,
 "nbformat_minor": 5
}
